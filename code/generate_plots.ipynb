{
 "cells": [
  {
   "cell_type": "code",
   "execution_count": 2,
   "metadata": {},
   "outputs": [],
   "source": [
    "%reload_ext autoreload\n",
    "%autoreload 2\n",
    "\n",
    "import os\n",
    "import copy \n",
    "import shutil\n",
    "import json\n",
    "\n",
    "import numpy as np\n",
    "import matplotlib.pyplot as plt\n",
    "import matplotlib.patches as patches\n",
    "import matplotlib as mpl\n",
    "import matplotlib.colors as mcolors\n",
    "from matplotlib.colors import LinearSegmentedColormap\n",
    "\n",
    "import utils as ut\n",
    "import plot_utils as pu"
   ]
  },
  {
   "cell_type": "markdown",
   "metadata": {},
   "source": [
    "Get again the orbit of the bodies"
   ]
  },
  {
   "cell_type": "code",
   "execution_count": 4,
   "metadata": {},
   "outputs": [
    {
     "name": "stdout",
     "output_type": "stream",
     "text": [
      "99.83%"
     ]
    }
   ],
   "source": [
    "initial_conditions_file = '../data/periodic_3b_inits/inits.json'\n",
    "with open(initial_conditions_file, 'r') as f:\n",
    "    initial_conditions = json.load(f)\n",
    "\n",
    "orbit = 'Figure Eight'\n",
    "inits = initial_conditions[orbit]\n",
    "\n",
    "T = inits['period']\n",
    "masses = [inits[str(i)]['mass'] for i in range(3)]\n",
    "bodies = [ut.Body(inits[str(i)]['mass'],\n",
    "                  inits[str(i)]['pos'][:2],\n",
    "                  inits[str(i)]['vel'][:2]) for i in range(3)]\n",
    "\n",
    "FRAMES = 600\n",
    "dt = T/FRAMES\n",
    "\n",
    "sim = ut.NBodySimulation(bodies, e=0.0)\n",
    "sim.run_simulation(T, dt)\n",
    "pos = sim.positions\n",
    "\n",
    "radii = np.array([1, 1, 1])*0.1"
   ]
  },
  {
   "cell_type": "markdown",
   "metadata": {},
   "source": [
    "List files with saved data"
   ]
  },
  {
   "cell_type": "code",
   "execution_count": 9,
   "metadata": {},
   "outputs": [],
   "source": [
    "N, M = 50, 50\n",
    "motherfold = f'../results/figure_eight_{N}_{M}/'\n",
    "save_ind_fold = motherfold + f'indices/'\n",
    "save_alpha_fold = motherfold + f'time_hit/'\n",
    "\n",
    "# list files in each folder\n",
    "files_ind = [save_ind_fold + file for file in os.listdir(save_ind_fold)]\n",
    "files_alpha = [save_alpha_fold + file for file in os.listdir(save_alpha_fold)]\n",
    "\n",
    "r = 1.5"
   ]
  },
  {
   "cell_type": "code",
   "execution_count": 14,
   "metadata": {},
   "outputs": [],
   "source": [
    "figurefold = f'../figures/figure_eight_{N}_{M}/'\n",
    "savefold = figurefold + 'pngs/'\n",
    "if not os.path.exists(savefold):\n",
    "    os.makedirs(savefold)\n",
    "else:\n",
    "    # remove all files in folder\n",
    "    for filename in os.listdir(savefold):\n",
    "        file_path = os.path.join(savefold, filename)\n",
    "        try:\n",
    "            if os.path.isfile(file_path) or os.path.islink(file_path):\n",
    "                os.unlink(file_path)\n",
    "            elif os.path.isdir(file_path): \n",
    "                shutil.rmtree(file_path)\n",
    "        except Exception as e:\n",
    "            print('Failed to delete %s. Reason: %s' % (file_path, e))"
   ]
  },
  {
   "cell_type": "markdown",
   "metadata": {},
   "source": [
    "Generate plots for each frame"
   ]
  },
  {
   "cell_type": "code",
   "execution_count": 15,
   "metadata": {},
   "outputs": [],
   "source": [
    "# Define your colors\n",
    "c0 = np.array([255, 43, 65]) / 255\n",
    "c1 = np.array([2, 11, 184]) / 255\n",
    "c2 = np.array([235, 222, 40]) / 255\n",
    "colors = [c0, c1, c2]\n",
    "\n",
    "# Generate figure with custom class in plot_utils.py\n",
    "Fig = pu.Figure(fig_size=1403, grid=False, theme='default', sw=0, ratio=1)\n",
    "axes = Fig.axes_flat\n",
    "fs = Fig.fs\n",
    "fig = Fig.fig\n",
    "\n",
    "ax = axes[0]\n",
    "ax.set_xticks([])\n",
    "ax.set_yticks([])\n",
    "ax.margins(x=0, y=0)\n",
    "\n",
    "background_color = np.array([1, 1, 1])*0\n",
    "\n",
    "# We create colormaps for each color to give whiter values to gridpoints that hit the bodies faster\n",
    "cmaps = [LinearSegmentedColormap.from_list(\"custom_cmap\", [background_color, color, 'w']) for color in colors]\n",
    "\n",
    "# Plot the orbit (1 body)\n",
    "ax.plot(pos[:, 0, 0], pos[:, 1, 0], c='w', lw=fs*0.2, zorder=1, alpha=0.5)\n",
    "\n",
    "for i in range(len(files_ind)):\n",
    "\n",
    "    # load data\n",
    "    indices = np.load(files_ind[i])\n",
    "    hit_time = np.load(files_alpha[i])\n",
    "\n",
    "    # use hit time to create 'alpha values', actually colormap indices\n",
    "    alpha = copy.deepcopy(hit_time)\n",
    "    fact = 1\n",
    "\n",
    "    # Adjust the following parameters to achieve the desired effect\n",
    "    max_alpha = np.max(alpha)*fact\n",
    "    alpha = alpha/max_alpha\n",
    "    alpha = alpha**(1)\n",
    "    alpha=1-alpha\n",
    "    alpha = np.clip(alpha, 0.4, 0.9)\n",
    "\n",
    "    # generate the rgba image\n",
    "    rgba_image = np.zeros((*indices.shape, 4))\n",
    "    # Apply the colormaps\n",
    "    for j, cmap in enumerate(cmaps):\n",
    "        mask = indices == j\n",
    "        rgba_image[mask] = cmap(alpha[mask])\n",
    "\n",
    "    # Handle the case where indices value is -1 (particle did not hit body)\n",
    "    mask = indices == -1\n",
    "    rgba_image[mask] = list(background_color) + [1] \n",
    "\n",
    "\n",
    "    im = ax.imshow(rgba_image, extent=[-r, r, -r, r], zorder=0)\n",
    "\n",
    "    circles = []\n",
    "    for j in range(len(radii)):\n",
    "        circle = patches.Circle((pos[i, 0, j], pos[i, 1, j]), radii[j], \n",
    "                                facecolor=colors[j], \n",
    "                                edgecolor='w',\n",
    "                                linewidth = fs*0,\n",
    "                                fill=True,\n",
    "                                zorder=2)\n",
    "        ax.add_patch(circle)\n",
    "        circles.append(circle)\n",
    "\n",
    "    filename = f'render_{i:04d}.jpg'\n",
    "    Fig.save(savefold+filename, bbox_inches='tight', pad_inches=0)\n",
    "\n",
    "    for circle in circles:\n",
    "        circle.remove()\n",
    "    \n",
    "    im.remove()\n",
    "\n",
    "    plt.close()"
   ]
  },
  {
   "cell_type": "markdown",
   "metadata": {},
   "source": [
    "Generate video"
   ]
  },
  {
   "cell_type": "code",
   "execution_count": 13,
   "metadata": {},
   "outputs": [],
   "source": [
    "pu.png_to_mp4(savefold, fps=60, title='video')"
   ]
  }
 ],
 "metadata": {
  "kernelspec": {
   "display_name": "astroenv",
   "language": "python",
   "name": "python3"
  },
  "language_info": {
   "codemirror_mode": {
    "name": "ipython",
    "version": 3
   },
   "file_extension": ".py",
   "mimetype": "text/x-python",
   "name": "python",
   "nbconvert_exporter": "python",
   "pygments_lexer": "ipython3",
   "version": "3.11.7"
  }
 },
 "nbformat": 4,
 "nbformat_minor": 2
}
